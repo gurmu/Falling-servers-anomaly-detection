{
 "cells": [
  {
   "cell_type": "markdown",
   "metadata": {},
   "source": [
    "<h1><Center>Demonstrating Machine learning model using Shiny</Center></h1>"
   ]
  },
  {
   "cell_type": "markdown",
   "metadata": {},
   "source": [
    "# Lesson Goals\n",
    "\n",
    "<div style=\"text-align: Justify\"> Shiny play a very crucial roles when it comes to visualizing your machine learning model to stackholders. In this notebook, we will build a regularized logistic regression that predicts whether microchips from a fabrication plant passes quality assurance (QA). During QA, each microchip goes through various tests to ensure it is functioning correctly. Suppose you are the product manager of the factory and you have the test results for some microchips on two diffeerent tests. From these two tests, you would like to determine whether the microchips should be accepted or rejected. Next, we will save the model and build a shiny app and test the app by uploading test data. Finally, we will download the data we uploaded with predictions using the machine learning model we built below. The data is from the famous Machine Learning Coursera Course by Andrew Ng. </div>\n",
    "\n",
    "______\n",
    "# Prerequests \n",
    "  1. Install R package\n",
    "  2. Install R studio\n",
    "  3. Install R libraries that required for this work\n",
    "  \n",
    "You can try the shiny app below by uploading the test data here. I have included the code at the bottom."
   ]
  },
  {
   "cell_type": "markdown",
   "metadata": {},
   "source": [
    "### Feature engineering and model building"
   ]
  },
  {
   "cell_type": "code",
   "execution_count": 1,
   "metadata": {},
   "outputs": [
    {
     "name": "stderr",
     "output_type": "stream",
     "text": [
      "Loading required package: lattice\n",
      "Loading required package: ggplot2\n",
      "Registered S3 methods overwritten by 'ggplot2':\n",
      "  method         from \n",
      "  [.quosures     rlang\n",
      "  c.quosures     rlang\n",
      "  print.quosures rlang\n",
      "Registered S3 method overwritten by 'rvest':\n",
      "  method            from\n",
      "  read_xml.response xml2\n",
      "-- Attaching packages --------------------------------------- tidyverse 1.2.1 --\n",
      "v tibble  2.1.1       v purrr   0.3.2  \n",
      "v tidyr   0.8.3       v dplyr   0.8.0.1\n",
      "v readr   1.3.1       v stringr 1.4.0  \n",
      "v tibble  2.1.1       v forcats 0.4.0  \n",
      "-- Conflicts ------------------------------------------ tidyverse_conflicts() --\n",
      "x dplyr::filter() masks stats::filter()\n",
      "x dplyr::lag()    masks stats::lag()\n",
      "x purrr::lift()   masks caret::lift()\n"
     ]
    }
   ],
   "source": [
    "library(caret)\n",
    "library(tidyverse)"
   ]
  },
  {
   "cell_type": "code",
   "execution_count": 2,
   "metadata": {},
   "outputs": [
    {
     "name": "stderr",
     "output_type": "stream",
     "text": [
      "Parsed with column specification:\n",
      "cols(\n",
      "  X1 = col_double(),\n",
      "  X2 = col_double(),\n",
      "  X3 = col_double()\n",
      ")\n"
     ]
    },
    {
     "data": {
      "text/html": [
       "<table>\n",
       "<thead><tr><th scope=col>X1</th><th scope=col>X2</th><th scope=col>X3</th></tr></thead>\n",
       "<tbody>\n",
       "\t<tr><td> 0.051267</td><td>0.69956  </td><td>1        </td></tr>\n",
       "\t<tr><td>-0.092742</td><td>0.68494  </td><td>1        </td></tr>\n",
       "\t<tr><td>-0.213710</td><td>0.69225  </td><td>1        </td></tr>\n",
       "\t<tr><td>-0.375000</td><td>0.50219  </td><td>1        </td></tr>\n",
       "\t<tr><td>-0.513250</td><td>0.46564  </td><td>1        </td></tr>\n",
       "\t<tr><td>-0.524770</td><td>0.20980  </td><td>1        </td></tr>\n",
       "</tbody>\n",
       "</table>\n"
      ],
      "text/latex": [
       "\\begin{tabular}{r|lll}\n",
       " X1 & X2 & X3\\\\\n",
       "\\hline\n",
       "\t  0.051267 & 0.69956   & 1        \\\\\n",
       "\t -0.092742 & 0.68494   & 1        \\\\\n",
       "\t -0.213710 & 0.69225   & 1        \\\\\n",
       "\t -0.375000 & 0.50219   & 1        \\\\\n",
       "\t -0.513250 & 0.46564   & 1        \\\\\n",
       "\t -0.524770 & 0.20980   & 1        \\\\\n",
       "\\end{tabular}\n"
      ],
      "text/markdown": [
       "\n",
       "| X1 | X2 | X3 |\n",
       "|---|---|---|\n",
       "|  0.051267 | 0.69956   | 1         |\n",
       "| -0.092742 | 0.68494   | 1         |\n",
       "| -0.213710 | 0.69225   | 1         |\n",
       "| -0.375000 | 0.50219   | 1         |\n",
       "| -0.513250 | 0.46564   | 1         |\n",
       "| -0.524770 | 0.20980   | 1         |\n",
       "\n"
      ],
      "text/plain": [
       "  X1        X2      X3\n",
       "1  0.051267 0.69956 1 \n",
       "2 -0.092742 0.68494 1 \n",
       "3 -0.213710 0.69225 1 \n",
       "4 -0.375000 0.50219 1 \n",
       "5 -0.513250 0.46564 1 \n",
       "6 -0.524770 0.20980 1 "
      ]
     },
     "metadata": {},
     "output_type": "display_data"
    }
   ],
   "source": [
    "df2 = read_csv(\"ex2data2.txt\", col_names = FALSE)\n",
    "head(df2) "
   ]
  },
  {
   "cell_type": "code",
   "execution_count": 3,
   "metadata": {},
   "outputs": [],
   "source": [
    "reserved = df2 %>% sample_n(20)\n",
    "df2_train = df2 %>% setdiff(reserved)"
   ]
  },
  {
   "cell_type": "code",
   "execution_count": 4,
   "metadata": {},
   "outputs": [
    {
     "data": {
      "text/html": [
       "<ol class=list-inline>\n",
       "\t<li>20</li>\n",
       "\t<li>3</li>\n",
       "</ol>\n"
      ],
      "text/latex": [
       "\\begin{enumerate*}\n",
       "\\item 20\n",
       "\\item 3\n",
       "\\end{enumerate*}\n"
      ],
      "text/markdown": [
       "1. 20\n",
       "2. 3\n",
       "\n",
       "\n"
      ],
      "text/plain": [
       "[1] 20  3"
      ]
     },
     "metadata": {},
     "output_type": "display_data"
    }
   ],
   "source": [
    "dim(reserved)"
   ]
  },
  {
   "cell_type": "code",
   "execution_count": 5,
   "metadata": {},
   "outputs": [
    {
     "data": {
      "text/html": [
       "<ol class=list-inline>\n",
       "\t<li>98</li>\n",
       "\t<li>3</li>\n",
       "</ol>\n"
      ],
      "text/latex": [
       "\\begin{enumerate*}\n",
       "\\item 98\n",
       "\\item 3\n",
       "\\end{enumerate*}\n"
      ],
      "text/markdown": [
       "1. 98\n",
       "2. 3\n",
       "\n",
       "\n"
      ],
      "text/plain": [
       "[1] 98  3"
      ]
     },
     "metadata": {},
     "output_type": "display_data"
    }
   ],
   "source": [
    "dim(df2_train)"
   ]
  },
  {
   "cell_type": "code",
   "execution_count": 6,
   "metadata": {},
   "outputs": [],
   "source": [
    "write.csv(reserved, 'test_data.csv', row.names = FALSE)"
   ]
  },
  {
   "cell_type": "code",
   "execution_count": 7,
   "metadata": {},
   "outputs": [],
   "source": [
    "names(df2_train) = c(\"Test1\", \"Test2\", \"Label\")"
   ]
  },
  {
   "cell_type": "markdown",
   "metadata": {},
   "source": [
    "### Visualizing\n",
    "\n",
    "The below figure shows that our dataset cannot be separated into positive and negative examples by a straight-line through the plot. Therefore, a straightforward application of logistic regression will not perform well on this dataset since logistic regression will only be able to find a linear decision boundary. One way to fit the data better is to create more features from each data point. Let's map the features into all polynomial terms of x1 and x2 up to the sixth power. We have also to save this function for later use with the shiny app to create features from the uploaded data."
   ]
  },
  {
   "cell_type": "code",
   "execution_count": 12,
   "metadata": {},
   "outputs": [
    {
     "data": {
      "image/png": "[encoded data removed]",
      "text/plain": [
       "plot without title"
      ]
     },
     "metadata": {},
     "output_type": "display_data"
    }
   ],
   "source": [
    "cols <- c(\"0\" = \"brown\",\"1\" = \"red\")\n",
    "df2_train %>% ggplot(aes(x = Test1, y = Test2, color = factor(Label))) + geom_point(size = 4, shape = 19, alpha = 0.6) +\n",
    "scale_colour_manual(values = cols,labels = c(\"Failed\", \"Passed\"),name=\"Test Result\")"
   ]
  },
  {
   "cell_type": "code",
   "execution_count": null,
   "metadata": {},
   "outputs": [],
   "source": []
  },
  {
   "cell_type": "code",
   "execution_count": 9,
   "metadata": {},
   "outputs": [],
   "source": [
    "feature_mapping = function(df){\n",
    "       new_data = c()\n",
    "\n",
    "    for(i in 1:6){\n",
    "        for(j in 0:i){\n",
    "            temp = (df$Test1)^i+(df$Test2)^(i-j)\n",
    "            new_data = cbind(new_data,temp)\n",
    "        }\n",
    "    }\n",
    "\n",
    "     colnames(new_data) = paste0(\"V\",1:ncol(new_data))\n",
    "    new_data\n",
    "}"
   ]
  },
  {
   "cell_type": "code",
   "execution_count": 10,
   "metadata": {},
   "outputs": [
    {
     "data": {
      "text/html": [
       "<table>\n",
       "<thead><tr><th scope=col>V1</th><th scope=col>V2</th><th scope=col>V3</th><th scope=col>V4</th><th scope=col>V5</th><th scope=col>V6</th><th scope=col>V7</th><th scope=col>V8</th><th scope=col>V9</th><th scope=col>V10</th><th scope=col>...</th><th scope=col>V18</th><th scope=col>V19</th><th scope=col>V20</th><th scope=col>V21</th><th scope=col>V22</th><th scope=col>V23</th><th scope=col>V24</th><th scope=col>V25</th><th scope=col>V26</th><th scope=col>V27</th></tr></thead>\n",
       "<tbody>\n",
       "\t<tr><td> 0.592198   </td><td>0.907258    </td><td>0.4777439   </td><td>0.6935411   </td><td>1.008601    </td><td> 0.32053699 </td><td> 0.46834512 </td><td> 0.68414232 </td><td>0.9992023   </td><td>0.22016895  </td><td>...         </td><td> 0.469135943</td><td>0.68493314  </td><td>0.9999931   </td><td>0.103256608 </td><td>0.150752485 </td><td>0.220095606 </td><td>0.321335308 </td><td>0.469143440 </td><td>0.68494064  </td><td>1.000001    </td></tr>\n",
       "\t<tr><td> 0.478540   </td><td>0.786290    </td><td>0.5248820   </td><td>0.7379220   </td><td>1.045672    </td><td> 0.32197261 </td><td> 0.46944951 </td><td> 0.68248944 </td><td>0.9902394   </td><td>0.23172821  </td><td>...         </td><td> 0.478764279</td><td>0.69180422  </td><td>0.9995542   </td><td>0.110142162 </td><td>0.159065140 </td><td>0.229737552 </td><td>0.331828434 </td><td>0.479305331 </td><td>0.69234527  </td><td>1.000095    </td></tr>\n",
       "\t<tr><td> 0.127190   </td><td>0.625000    </td><td>0.3928198   </td><td>0.6428150   </td><td>1.140625    </td><td> 0.07391533 </td><td> 0.19946042 </td><td> 0.44945563 </td><td>0.9472656   </td><td>0.08337761  </td><td>...         </td><td> 0.244779025</td><td>0.49477423  </td><td>0.9925842   </td><td>0.018821062 </td><td>0.034721311 </td><td>0.066383129 </td><td>0.129430619 </td><td>0.254975710 </td><td>0.50497091  </td><td>1.002781    </td></tr>\n",
       "\t<tr><td>-0.047610   </td><td>0.486750    </td><td>0.4802462   </td><td>0.7290656   </td><td>1.263426    </td><td>-0.03424282 </td><td> 0.08161744 </td><td> 0.33043683 </td><td>0.8647968   </td><td>0.11640420  </td><td>...         </td><td> 0.181204639</td><td>0.43002403  </td><td>0.9643840   </td><td>0.028472889 </td><td>0.040170182 </td><td>0.065291074 </td><td>0.119240246 </td><td>0.235100507 </td><td>0.48391990  </td><td>1.018280    </td></tr>\n",
       "\t<tr><td>-0.314970   </td><td>0.475230    </td><td>0.3193996   </td><td>0.4851836   </td><td>1.275384    </td><td>-0.13527846 </td><td>-0.10049699 </td><td> 0.06528697 </td><td>0.8554870   </td><td>0.07777351  </td><td>...         </td><td> 0.004219529</td><td>0.17000349  </td><td>0.9602035   </td><td>0.020969292 </td><td>0.021290484 </td><td>0.022821427 </td><td>0.030118580 </td><td>0.064900055 </td><td>0.23068401  </td><td>1.020884    </td></tr>\n",
       "\t<tr><td>-0.363683   </td><td>0.601960    </td><td>0.1596162   </td><td>0.1927928   </td><td>1.158436    </td><td>-0.06302325 </td><td>-0.06188340 </td><td>-0.02870680 </td><td>0.9369362   </td><td>0.02510331  </td><td>...         </td><td>-0.008811163</td><td>0.02436543  </td><td>0.9900084   </td><td>0.003977045 </td><td>0.003977091 </td><td>0.003978437 </td><td>0.004017598 </td><td>0.005157447 </td><td>0.03833404  </td><td>1.003977    </td></tr>\n",
       "</tbody>\n",
       "</table>\n"
      ],
      "text/latex": [
       "\\begin{tabular}{lllllllllllllllllllllllllll}\n",
       " V1 & V2 & V3 & V4 & V5 & V6 & V7 & V8 & V9 & V10 & ... & V18 & V19 & V20 & V21 & V22 & V23 & V24 & V25 & V26 & V27\\\\\n",
       "\\hline\n",
       "\t  0.592198    & 0.907258     & 0.4777439    & 0.6935411    & 1.008601     &  0.32053699  &  0.46834512  &  0.68414232  & 0.9992023    & 0.22016895   & ...          &  0.469135943 & 0.68493314   & 0.9999931    & 0.103256608  & 0.150752485  & 0.220095606  & 0.321335308  & 0.469143440  & 0.68494064   & 1.000001    \\\\\n",
       "\t  0.478540    & 0.786290     & 0.5248820    & 0.7379220    & 1.045672     &  0.32197261  &  0.46944951  &  0.68248944  & 0.9902394    & 0.23172821   & ...          &  0.478764279 & 0.69180422   & 0.9995542    & 0.110142162  & 0.159065140  & 0.229737552  & 0.331828434  & 0.479305331  & 0.69234527   & 1.000095    \\\\\n",
       "\t  0.127190    & 0.625000     & 0.3928198    & 0.6428150    & 1.140625     &  0.07391533  &  0.19946042  &  0.44945563  & 0.9472656    & 0.08337761   & ...          &  0.244779025 & 0.49477423   & 0.9925842    & 0.018821062  & 0.034721311  & 0.066383129  & 0.129430619  & 0.254975710  & 0.50497091   & 1.002781    \\\\\n",
       "\t -0.047610    & 0.486750     & 0.4802462    & 0.7290656    & 1.263426     & -0.03424282  &  0.08161744  &  0.33043683  & 0.8647968    & 0.11640420   & ...          &  0.181204639 & 0.43002403   & 0.9643840    & 0.028472889  & 0.040170182  & 0.065291074  & 0.119240246  & 0.235100507  & 0.48391990   & 1.018280    \\\\\n",
       "\t -0.314970    & 0.475230     & 0.3193996    & 0.4851836    & 1.275384     & -0.13527846  & -0.10049699  &  0.06528697  & 0.8554870    & 0.07777351   & ...          &  0.004219529 & 0.17000349   & 0.9602035    & 0.020969292  & 0.021290484  & 0.022821427  & 0.030118580  & 0.064900055  & 0.23068401   & 1.020884    \\\\\n",
       "\t -0.363683    & 0.601960     & 0.1596162    & 0.1927928    & 1.158436     & -0.06302325  & -0.06188340  & -0.02870680  & 0.9369362    & 0.02510331   & ...          & -0.008811163 & 0.02436543   & 0.9900084    & 0.003977045  & 0.003977091  & 0.003978437  & 0.004017598  & 0.005157447  & 0.03833404   & 1.003977    \\\\\n",
       "\\end{tabular}\n"
      ],
      "text/markdown": [
       "\n",
       "| V1 | V2 | V3 | V4 | V5 | V6 | V7 | V8 | V9 | V10 | ... | V18 | V19 | V20 | V21 | V22 | V23 | V24 | V25 | V26 | V27 |\n",
       "|---|---|---|---|---|---|---|---|---|---|---|---|---|---|---|---|---|---|---|---|---|\n",
       "|  0.592198    | 0.907258     | 0.4777439    | 0.6935411    | 1.008601     |  0.32053699  |  0.46834512  |  0.68414232  | 0.9992023    | 0.22016895   | ...          |  0.469135943 | 0.68493314   | 0.9999931    | 0.103256608  | 0.150752485  | 0.220095606  | 0.321335308  | 0.469143440  | 0.68494064   | 1.000001     |\n",
       "|  0.478540    | 0.786290     | 0.5248820    | 0.7379220    | 1.045672     |  0.32197261  |  0.46944951  |  0.68248944  | 0.9902394    | 0.23172821   | ...          |  0.478764279 | 0.69180422   | 0.9995542    | 0.110142162  | 0.159065140  | 0.229737552  | 0.331828434  | 0.479305331  | 0.69234527   | 1.000095     |\n",
       "|  0.127190    | 0.625000     | 0.3928198    | 0.6428150    | 1.140625     |  0.07391533  |  0.19946042  |  0.44945563  | 0.9472656    | 0.08337761   | ...          |  0.244779025 | 0.49477423   | 0.9925842    | 0.018821062  | 0.034721311  | 0.066383129  | 0.129430619  | 0.254975710  | 0.50497091   | 1.002781     |\n",
       "| -0.047610    | 0.486750     | 0.4802462    | 0.7290656    | 1.263426     | -0.03424282  |  0.08161744  |  0.33043683  | 0.8647968    | 0.11640420   | ...          |  0.181204639 | 0.43002403   | 0.9643840    | 0.028472889  | 0.040170182  | 0.065291074  | 0.119240246  | 0.235100507  | 0.48391990   | 1.018280     |\n",
       "| -0.314970    | 0.475230     | 0.3193996    | 0.4851836    | 1.275384     | -0.13527846  | -0.10049699  |  0.06528697  | 0.8554870    | 0.07777351   | ...          |  0.004219529 | 0.17000349   | 0.9602035    | 0.020969292  | 0.021290484  | 0.022821427  | 0.030118580  | 0.064900055  | 0.23068401   | 1.020884     |\n",
       "| -0.363683    | 0.601960     | 0.1596162    | 0.1927928    | 1.158436     | -0.06302325  | -0.06188340  | -0.02870680  | 0.9369362    | 0.02510331   | ...          | -0.008811163 | 0.02436543   | 0.9900084    | 0.003977045  | 0.003977091  | 0.003978437  | 0.004017598  | 0.005157447  | 0.03833404   | 1.003977     |\n",
       "\n"
      ],
      "text/plain": [
       "     V1        V2       V3        V4        V5       V6          V7         \n",
       "[1,]  0.592198 0.907258 0.4777439 0.6935411 1.008601  0.32053699  0.46834512\n",
       "[2,]  0.478540 0.786290 0.5248820 0.7379220 1.045672  0.32197261  0.46944951\n",
       "[3,]  0.127190 0.625000 0.3928198 0.6428150 1.140625  0.07391533  0.19946042\n",
       "[4,] -0.047610 0.486750 0.4802462 0.7290656 1.263426 -0.03424282  0.08161744\n",
       "[5,] -0.314970 0.475230 0.3193996 0.4851836 1.275384 -0.13527846 -0.10049699\n",
       "[6,] -0.363683 0.601960 0.1596162 0.1927928 1.158436 -0.06302325 -0.06188340\n",
       "     V8          V9        V10        ... V18          V19        V20      \n",
       "[1,]  0.68414232 0.9992023 0.22016895 ...  0.469135943 0.68493314 0.9999931\n",
       "[2,]  0.68248944 0.9902394 0.23172821 ...  0.478764279 0.69180422 0.9995542\n",
       "[3,]  0.44945563 0.9472656 0.08337761 ...  0.244779025 0.49477423 0.9925842\n",
       "[4,]  0.33043683 0.8647968 0.11640420 ...  0.181204639 0.43002403 0.9643840\n",
       "[5,]  0.06528697 0.8554870 0.07777351 ...  0.004219529 0.17000349 0.9602035\n",
       "[6,] -0.02870680 0.9369362 0.02510331 ... -0.008811163 0.02436543 0.9900084\n",
       "     V21         V22         V23         V24         V25         V26       \n",
       "[1,] 0.103256608 0.150752485 0.220095606 0.321335308 0.469143440 0.68494064\n",
       "[2,] 0.110142162 0.159065140 0.229737552 0.331828434 0.479305331 0.69234527\n",
       "[3,] 0.018821062 0.034721311 0.066383129 0.129430619 0.254975710 0.50497091\n",
       "[4,] 0.028472889 0.040170182 0.065291074 0.119240246 0.235100507 0.48391990\n",
       "[5,] 0.020969292 0.021290484 0.022821427 0.030118580 0.064900055 0.23068401\n",
       "[6,] 0.003977045 0.003977091 0.003978437 0.004017598 0.005157447 0.03833404\n",
       "     V27     \n",
       "[1,] 1.000001\n",
       "[2,] 1.000095\n",
       "[3,] 1.002781\n",
       "[4,] 1.018280\n",
       "[5,] 1.020884\n",
       "[6,] 1.003977"
      ]
     },
     "metadata": {},
     "output_type": "display_data"
    }
   ],
   "source": [
    "mapped = feature_mapping(df2_train)\n",
    "head(mapped)"
   ]
  },
  {
   "cell_type": "code",
   "execution_count": 13,
   "metadata": {},
   "outputs": [
    {
     "data": {
      "text/html": [
       "<ol class=list-inline>\n",
       "\t<li>98</li>\n",
       "\t<li>30</li>\n",
       "</ol>\n"
      ],
      "text/latex": [
       "\\begin{enumerate*}\n",
       "\\item 98\n",
       "\\item 30\n",
       "\\end{enumerate*}\n"
      ],
      "text/markdown": [
       "1. 98\n",
       "2. 30\n",
       "\n",
       "\n"
      ],
      "text/plain": [
       "[1] 98 30"
      ]
     },
     "metadata": {},
     "output_type": "display_data"
    }
   ],
   "source": [
    "df_final = cbind(df2_train, mapped)\n",
    "dim(df_final)"
   ]
  },
  {
   "cell_type": "code",
   "execution_count": 14,
   "metadata": {},
   "outputs": [],
   "source": [
    "df_final$Label = as.factor(df_final$Label )\n",
    "levels(df_final$Label) <- c(\"Failed\", \"Passed\")"
   ]
  },
  {
   "cell_type": "markdown",
   "metadata": {},
   "source": [
    "### Building a regularized logistic regression model using cross-validation and grid search"
   ]
  },
  {
   "cell_type": "code",
   "execution_count": 21,
   "metadata": {},
   "outputs": [
    {
     "data": {
      "text/plain": [
       "Regularized Logistic Regression \n",
       "\n",
       "98 samples\n",
       "29 predictors\n",
       " 2 classes: 'Failed', 'Passed' \n",
       "\n",
       "Pre-processing: centered (29), scaled (29) \n",
       "Resampling: Cross-Validated (10 fold) \n",
       "Summary of sample sizes: 89, 88, 89, 88, 88, 88, ... \n",
       "Resampling results across tuning parameters:\n",
       "\n",
       "  cost        ROC        Sens   Spec\n",
       "  0.00100000  0.7916667  0.580  0.86\n",
       "  0.05357895  0.9183333  0.665  0.90\n",
       "  0.10615789  0.9183333  0.685  0.88\n",
       "  0.15873684  0.9150000  0.685  0.86\n",
       "  0.21131579  0.9076667  0.685  0.84\n",
       "  0.26389474  0.9010000  0.685  0.84\n",
       "  0.31647368  0.9010000  0.685  0.84\n",
       "  0.36905263  0.9010000  0.685  0.84\n",
       "  0.42163158  0.8976667  0.685  0.82\n",
       "  0.47421053  0.8976667  0.685  0.82\n",
       "  0.52678947  0.8926667  0.685  0.82\n",
       "  0.57936842  0.8966667  0.685  0.82\n",
       "  0.63194737  0.8966667  0.685  0.82\n",
       "  0.68452632  0.8966667  0.685  0.82\n",
       "  0.73710526  0.8966667  0.685  0.82\n",
       "  0.78968421  0.8966667  0.705  0.82\n",
       "  0.84226316  0.8966667  0.705  0.82\n",
       "  0.89484211  0.8966667  0.705  0.80\n",
       "  0.94742105  0.8966667  0.705  0.80\n",
       "  1.00000000  0.8966667  0.705  0.80\n",
       "\n",
       "Tuning parameter 'loss' was held constant at a value of L2_primal\n",
       "\n",
       "Tuning parameter 'epsilon' was held constant at a value of 0.01\n",
       "ROC was used to select the optimal model using the largest value.\n",
       "The final values used for the model were cost = 0.05357895, loss =\n",
       " L2_primal and epsilon = 0.01."
      ]
     },
     "metadata": {},
     "output_type": "display_data"
    }
   ],
   "source": [
    "\n",
    "cctrl1 <- trainControl(method = \"cv\", number = 10,\n",
    "                       allowParallel = TRUE,\n",
    "                       summaryFunction = twoClassSummary,\n",
    "                       classProbs = TRUE\n",
    "                       )\n",
    "\n",
    "\n",
    "rlGrid <- expand.grid( cost = seq(0.001, 1, length.out = 20),\n",
    "                       loss =  \"L2_primal\",\n",
    "                       epsilon = 0.01 )\n",
    "\n",
    "my_model <- train(Label ~ .,  data = df_final, \n",
    "                  method = 'regLogistic',\n",
    "                  trControl = cctrl1,\n",
    "                  metric = \"ROC\", \n",
    "                  preProc = c(\"center\", \"scale\"),\n",
    "                  tuneGrid = rlGrid)\n",
    "my_model"
   ]
  },
  {
   "cell_type": "code",
   "execution_count": 20,
   "metadata": {},
   "outputs": [
    {
     "name": "stdout",
     "output_type": "stream",
     "text": [
      "package 'LiblineaR' successfully unpacked and MD5 sums checked\n",
      "\n",
      "The downloaded binary packages are in\n",
      "\tC:\\Users\\agurm\\AppData\\Local\\Temp\\Rtmpg5akQ9\\downloaded_packages\n"
     ]
    }
   ],
   "source": [
    "install.packages(\"LiblineaR\")"
   ]
  },
  {
   "cell_type": "markdown",
   "metadata": {},
   "source": [
    "### Save the model. We will further use it in shiny app"
   ]
  },
  {
   "cell_type": "code",
   "execution_count": 22,
   "metadata": {},
   "outputs": [],
   "source": [
    "save(my_model , file = 'RegularizedLogisticRegression.rda')"
   ]
  },
  {
   "cell_type": "markdown",
   "metadata": {},
   "source": [
    "### Creating shiny app"
   ]
  },
  {
   "cell_type": "markdown",
   "metadata": {},
   "source": [
    "#### server.R"
   ]
  },
  {
   "cell_type": "code",
   "execution_count": null,
   "metadata": {},
   "outputs": [],
   "source": [
    "library(caret)\n",
    "library(shiny)\n",
    "library(LiblineaR)\n",
    "library(readr)\n",
    "library(ggplot2)\n",
    "\n",
    "\n",
    "\n",
    "load(\"RegularizedLogisticRegression.rda\")          # Load saved model\n",
    "\n",
    "source(\"featureMapping.R\")                         #  a function for feature engineering. \n",
    "                                                   #  You can include data imputation, data manipulation, data cleaning,\n",
    "                                                   #  feature transformation, etc.,  functions\n",
    "\n",
    "\n",
    "shinyServer(function(input, output) {\n",
    "  \n",
    "  options(shiny.maxRequestSize = 800*1024^2)   # This is a number which specifies the maximum web request size, \n",
    "  # which serves as a size limit for file uploads. \n",
    "  # If unset, the maximum request size defaults to 5MB.\n",
    "  # The value I have put here is 80MB\n",
    "  \n",
    "  \n",
    "  output$sample_input_data_heading = renderUI({   # show only if data has been uploaded\n",
    "    inFile <- input$file1\n",
    "    \n",
    "    if (is.null(inFile)){\n",
    "      return(NULL)\n",
    "    }else{\n",
    "      tags$h4('Sample data')\n",
    "    }\n",
    "  })\n",
    "  \n",
    "  output$sample_input_data = renderTable({    # show sample of uploaded data\n",
    "    inFile <- input$file1\n",
    "    \n",
    "    if (is.null(inFile)){\n",
    "      return(NULL)\n",
    "    }else{\n",
    "      input_data =  readr::read_csv(input$file1$datapath, col_names = TRUE)\n",
    "      \n",
    "      colnames(input_data) = c(\"Test1\", \"Test2\", \"Label\")\n",
    "      \n",
    "      input_data$Label = as.factor(input_data$Label )\n",
    "      \n",
    "      levels(input_data$Label) <- c(\"Failed\", \"Passed\")\n",
    "      head(input_data)\n",
    "    }\n",
    "  })\n",
    "  \n",
    "  \n",
    "  \n",
    "  predictions<-reactive({\n",
    "    \n",
    "    inFile <- input$file1\n",
    "    \n",
    "    if (is.null(inFile)){\n",
    "      return(NULL)\n",
    "    }else{\n",
    "      withProgress(message = 'Predictions in progress. Please wait ...', {\n",
    "        input_data =  readr::read_csv(input$file1$datapath, col_names = TRUE)\n",
    "        \n",
    "        colnames(input_data) = c(\"Test1\", \"Test2\", \"Label\")\n",
    "        \n",
    "        input_data$Label = as.factor(input_data$Label )\n",
    "        \n",
    "        levels(input_data$Label) <- c(\"Failed\", \"Passed\")\n",
    "        \n",
    "        mapped = feature_mapping(input_data)\n",
    "        \n",
    "        df_final = cbind(input_data, mapped)\n",
    "        prediction = predict(my_model, df_final)\n",
    "        \n",
    "        input_data_with_prediction = cbind(input_data,prediction )\n",
    "        input_data_with_prediction\n",
    "        \n",
    "      })\n",
    "    }\n",
    "  })\n",
    "  \n",
    "  \n",
    "  output$sample_prediction_heading = renderUI({  # show only if data has been uploaded\n",
    "    inFile <- input$file1\n",
    "    \n",
    "    if (is.null(inFile)){\n",
    "      return(NULL)\n",
    "    }else{\n",
    "      tags$h4('Sample predictions')\n",
    "    }\n",
    "  })\n",
    "  \n",
    "  output$sample_predictions = renderTable({   # the last 6 rows to show\n",
    "    pred = predictions()\n",
    "    head(pred)\n",
    "    \n",
    "  })\n",
    "  \n",
    "  \n",
    "  output$plot_predictions = renderPlot({   # the last 6 rows to show\n",
    "    pred = predictions()\n",
    "    cols <- c(\"Failed\" = \"red\",\"Passed\" = \"blue\")\n",
    "    ggplot(pred, aes(x = Test1, y = Test2, color = factor(prediction))) + geom_point(size = 4, shape = 19, alpha = 0.6) +\n",
    "      scale_colour_manual(values = cols,labels = c(\"Failed\", \"Passed\"),name=\"Test Result\")\n",
    "    \n",
    "  })\n",
    "  \n",
    "  \n",
    "  # Downloadable csv of predictions ----\n",
    "  \n",
    "  output$downloadData <- downloadHandler(\n",
    "    filename = function() {\n",
    "      paste(\"input_data_with_predictions\", \".csv\", sep = \"\")\n",
    "    },\n",
    "    content = function(file) {\n",
    "      write.csv(predictions(), file, row.names = FALSE)\n",
    "    })\n",
    "  \n",
    "})"
   ]
  },
  {
   "cell_type": "markdown",
   "metadata": {},
   "source": [
    "#### ui.R"
   ]
  },
  {
   "cell_type": "code",
   "execution_count": null,
   "metadata": {},
   "outputs": [],
   "source": [
    "library(shiny)\n",
    "library(shinydashboard)\n",
    "library(shinythemes)\n",
    "\n",
    "dashboardPage(skin=\"black\",\n",
    "              dashboardHeader(title=tags$em(\"Shiny prediction app\", style=\"text-align:center;color:#006600;font-size:100%\"),titleWidth = 800),\n",
    "              \n",
    "              dashboardSidebar(width = 250,\n",
    "                               sidebarMenu(\n",
    "                                 br(),\n",
    "                                 menuItem(tags$em(\"Upload Test Data\",style=\"font-size:120%\"),icon=icon(\"upload\"),tabName=\"data\"),\n",
    "                                 menuItem(tags$em(\"Download Predictions\",style=\"font-size:120%\"),icon=icon(\"download\"),tabName=\"download\")\n",
    "                                 \n",
    "                                 \n",
    "                               )\n",
    "              ),\n",
    "              \n",
    "              dashboardBody(\n",
    "                tabItems(\n",
    "                  tabItem(tabName=\"data\",\n",
    "                          \n",
    "                          \n",
    "                          br(),\n",
    "                          br(),\n",
    "                          br(),\n",
    "                          br(),\n",
    "                          tags$h4(\"With this shiny prediction app, you can upload your data and get back predictions.\n",
    "                                  The model is a Regularized Logistic Regression that predicts whether microchips from a \n",
    "                                  fabrication plant passes quality assurance (QA). During QA, each microchip goes through various \n",
    "                                  tests to ensure it is functioning correctly. Suppose you are the product manager of the \n",
    "                                  factory and you have the test results for some microchips on two different tests. \n",
    "                                  From these two tests, you would like to determine whether the microchips should be accepted or rejected.\", style=\"font-size:150%\"),\n",
    "                          \n",
    "                          \n",
    "                          br(),\n",
    "                          \n",
    "                          tags$h4(\"To predict using this model, upload test data in csv format (you can change the code to read other data types) by using the button below.\", style=\"font-size:150%\"),\n",
    "                          \n",
    "                          tags$h4(\"Then, go to the\", tags$span(\"Download Predictions\",style=\"color:red\"),\n",
    "                                  tags$span(\"section in the sidebar to  download the predictions.\"), style=\"font-size:150%\"),\n",
    "                          \n",
    "                          br(),\n",
    "                          br(),\n",
    "                          br(),\n",
    "                          column(width = 4,\n",
    "                                 fileInput('file1', em('Upload test data in csv format ',style=\"text-align:center;color:blue;font-size:150%\"),multiple = FALSE,\n",
    "                                           accept=c('.csv')),\n",
    "                                 \n",
    "                                 uiOutput(\"sample_input_data_heading\"),\n",
    "                                 tableOutput(\"sample_input_data\"),\n",
    "                                 \n",
    "                                 \n",
    "                                 br(),\n",
    "                                 br(),\n",
    "                                 br(),\n",
    "                                 br()\n",
    "                          ),\n",
    "                          br()\n",
    "                          \n",
    "                  ),\n",
    "                  \n",
    "                  \n",
    "                  tabItem(tabName=\"download\",\n",
    "                          fluidRow(\n",
    "                            br(),\n",
    "                            br(),\n",
    "                            br(),\n",
    "                            br(),\n",
    "                            column(width = 8,\n",
    "                                   tags$h4(\"After you upload a test dataset, you can download the predictions in csv format by\n",
    "                                    clicking the button below.\", \n",
    "                                           style=\"font-size:200%\"),\n",
    "                                   br(),\n",
    "                                   br()\n",
    "                            )),\n",
    "                          fluidRow(\n",
    "                            \n",
    "                            column(width = 7,\n",
    "                                   downloadButton(\"downloadData\", em('Download Predictions',style=\"text-align:center;color:blue;font-size:150%\")),\n",
    "                                   plotOutput('plot_predictions')\n",
    "                            ),\n",
    "                            column(width = 4,\n",
    "                                   uiOutput(\"sample_prediction_heading\"),\n",
    "                                   tableOutput(\"sample_predictions\")\n",
    "                            )\n",
    "                            \n",
    "                          ))\n",
    "                )))"
   ]
  },
  {
   "cell_type": "markdown",
   "metadata": {},
   "source": [
    "![title](img/shin.png)"
   ]
  },
  {
   "cell_type": "markdown",
   "metadata": {},
   "source": [
    "# Further reading\n",
    "\n",
    "1.Shiny [link](https://shiny.rstudio.com/).\n",
    "\n",
    "2.Learning shiny eBook (PDF) [link](https://riptutorial.com/ebook/shiny).\n",
    " \n",
    "3.Developing Web Applications in the area of Biostatistics & Data Science [link](https://ibiostat.be/seminar/uploads/introdcution-r-shiny-package-20160330.pdf)\n",
    " \n",
    " ______\n",
    "## 7. Conclusion\n",
    "\n",
    "In this tutorial, you discovered how to develop machine learning model and visualized the saved model using Shiny. focused on a E Studio. \n",
    "\n",
    "Specifically, you learned:\n",
    "\n",
    "* How to make feature engineering and visualise it.\n",
    "* How to Building a regularized logistic regression model using cross-validation and grid search.\n",
    "* How to Save the model.\n",
    "* How to Create shiny app.\n",
    "\n",
    "# Next Step\n",
    "There is still much room to improve the model. For example, you can try more options using big data and deep learning technique. I'll write another one for this."
   ]
  },
  {
   "cell_type": "code",
   "execution_count": null,
   "metadata": {},
   "outputs": [],
   "source": []
  }
 ],
 "metadata": {
  "kernelspec": {
   "display_name": "R",
   "language": "R",
   "name": "ir"
  },
  "language_info": {
   "codemirror_mode": "r",
   "file_extension": ".r",
   "mimetype": "text/x-r-source",
   "name": "R",
   "pygments_lexer": "r",
   "version": "3.6.1"
  }
 },
 "nbformat": 4,
 "nbformat_minor": 4
}
